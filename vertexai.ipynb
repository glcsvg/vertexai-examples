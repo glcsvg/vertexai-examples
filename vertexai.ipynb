{
 "cells": [
  {
   "cell_type": "code",
   "execution_count": 24,
   "metadata": {},
   "outputs": [],
   "source": [
    "#!pip install python-dotenv google-auth google-auth-oauthlib\n",
    "import os\n",
    "from dotenv import load_dotenv"
   ]
  },
  {
   "cell_type": "code",
   "execution_count": 25,
   "metadata": {},
   "outputs": [
    {
     "name": "stdout",
     "output_type": "stream",
     "text": [
      "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\n"
     ]
    }
   ],
   "source": [
    "import base64\n",
    "\n",
    "with open(\"tough-history-.json\", \"rb\") as key_file:\n",
    "    encoded_key = base64.b64encode(key_file.read()).decode(\"ascii\")\n",
    "    print(encoded_key)\n"
   ]
  },
  {
   "cell_type": "code",
   "execution_count": 15,
   "metadata": {},
   "outputs": [],
   "source": [
    "from google.cloud import aiplatform\n",
    "\n",
    "credentials_path = \"tough-history-json\"\n",
    "aiplatform.init(project='tough-history-431913-r8', location=\"us-central1\", credentials=credentials_path)\n"
   ]
  },
  {
   "cell_type": "code",
   "execution_count": 12,
   "metadata": {},
   "outputs": [],
   "source": [
    "# from utils_vai import authenticate\n",
    "# credentials, PROJECT_ID = authenticate() # Get credentials and project ID"
   ]
  },
  {
   "cell_type": "code",
   "execution_count": 27,
   "metadata": {},
   "outputs": [],
   "source": [
    "PROJECT_ID = os.getenv('PROJECT_ID')\n",
    "REGION = 'us-central1'"
   ]
  },
  {
   "cell_type": "code",
   "execution_count": 16,
   "metadata": {},
   "outputs": [
    {
     "name": "stdout",
     "output_type": "stream",
     "text": [
      "tough-history-431913-r8\n"
     ]
    }
   ],
   "source": [
    "print(PROJECT_ID)"
   ]
  },
  {
   "cell_type": "code",
   "execution_count": 17,
   "metadata": {},
   "outputs": [],
   "source": [
    "PROJECT_ID = 'tough-history'\n",
    "REGION = 'us-central1'\n",
    "credentials_path = \"tough-history-.json\"\n"
   ]
  },
  {
   "cell_type": "code",
   "execution_count": 18,
   "metadata": {},
   "outputs": [],
   "source": [
    "# Import and initialize the Vertex AI Python SDK\n",
    "\n",
    "import vertexai\n",
    "vertexai.init(project = PROJECT_ID, \n",
    "              location = REGION)"
   ]
  },
  {
   "cell_type": "code",
   "execution_count": 19,
   "metadata": {},
   "outputs": [],
   "source": [
    "from vertexai.language_models import TextEmbeddingModel"
   ]
  },
  {
   "cell_type": "code",
   "execution_count": 20,
   "metadata": {},
   "outputs": [
    {
     "ename": "RetryError",
     "evalue": "Timeout of 120.0s exceeded, last exception: 503 Getting metadata from plugin failed with error: 'str' object has no attribute 'before_request'",
     "output_type": "error",
     "traceback": [
      "\u001b[0;31m---------------------------------------------------------------------------\u001b[0m",
      "\u001b[0;31m_InactiveRpcError\u001b[0m                         Traceback (most recent call last)",
      "File \u001b[0;32m~/miniconda3/envs/aa/lib/python3.8/site-packages/google/api_core/grpc_helpers.py:76\u001b[0m, in \u001b[0;36m_wrap_unary_errors.<locals>.error_remapped_callable\u001b[0;34m(*args, **kwargs)\u001b[0m\n\u001b[1;32m     75\u001b[0m \u001b[39mtry\u001b[39;00m:\n\u001b[0;32m---> 76\u001b[0m     \u001b[39mreturn\u001b[39;00m callable_(\u001b[39m*\u001b[39;49margs, \u001b[39m*\u001b[39;49m\u001b[39m*\u001b[39;49mkwargs)\n\u001b[1;32m     77\u001b[0m \u001b[39mexcept\u001b[39;00m grpc\u001b[39m.\u001b[39mRpcError \u001b[39mas\u001b[39;00m exc:\n",
      "File \u001b[0;32m~/miniconda3/envs/aa/lib/python3.8/site-packages/grpc/_channel.py:1181\u001b[0m, in \u001b[0;36m_UnaryUnaryMultiCallable.__call__\u001b[0;34m(self, request, timeout, metadata, credentials, wait_for_ready, compression)\u001b[0m\n\u001b[1;32m   1175\u001b[0m (\n\u001b[1;32m   1176\u001b[0m     state,\n\u001b[1;32m   1177\u001b[0m     call,\n\u001b[1;32m   1178\u001b[0m ) \u001b[39m=\u001b[39m \u001b[39mself\u001b[39m\u001b[39m.\u001b[39m_blocking(\n\u001b[1;32m   1179\u001b[0m     request, timeout, metadata, credentials, wait_for_ready, compression\n\u001b[1;32m   1180\u001b[0m )\n\u001b[0;32m-> 1181\u001b[0m \u001b[39mreturn\u001b[39;00m _end_unary_response_blocking(state, call, \u001b[39mFalse\u001b[39;49;00m, \u001b[39mNone\u001b[39;49;00m)\n",
      "File \u001b[0;32m~/miniconda3/envs/aa/lib/python3.8/site-packages/grpc/_channel.py:1006\u001b[0m, in \u001b[0;36m_end_unary_response_blocking\u001b[0;34m(state, call, with_call, deadline)\u001b[0m\n\u001b[1;32m   1005\u001b[0m \u001b[39melse\u001b[39;00m:\n\u001b[0;32m-> 1006\u001b[0m     \u001b[39mraise\u001b[39;00m _InactiveRpcError(state)\n",
      "\u001b[0;31m_InactiveRpcError\u001b[0m: <_InactiveRpcError of RPC that terminated with:\n\tstatus = StatusCode.UNAVAILABLE\n\tdetails = \"Getting metadata from plugin failed with error: 'str' object has no attribute 'before_request'\"\n\tdebug_error_string = \"UNKNOWN:Error received from peer  {created_time:\"2024-08-10T18:47:10.504013258+03:00\", grpc_status:14, grpc_message:\"Getting metadata from plugin failed with error: \\'str\\' object has no attribute \\'before_request\\'\"}\"\n>",
      "\nThe above exception was the direct cause of the following exception:\n",
      "\u001b[0;31mServiceUnavailable\u001b[0m                        Traceback (most recent call last)",
      "File \u001b[0;32m~/miniconda3/envs/aa/lib/python3.8/site-packages/google/api_core/retry/retry_unary.py:144\u001b[0m, in \u001b[0;36mretry_target\u001b[0;34m(target, predicate, sleep_generator, timeout, on_error, exception_factory, **kwargs)\u001b[0m\n\u001b[1;32m    143\u001b[0m \u001b[39mtry\u001b[39;00m:\n\u001b[0;32m--> 144\u001b[0m     result \u001b[39m=\u001b[39m target()\n\u001b[1;32m    145\u001b[0m     \u001b[39mif\u001b[39;00m inspect\u001b[39m.\u001b[39misawaitable(result):\n",
      "File \u001b[0;32m~/miniconda3/envs/aa/lib/python3.8/site-packages/google/api_core/grpc_helpers.py:78\u001b[0m, in \u001b[0;36m_wrap_unary_errors.<locals>.error_remapped_callable\u001b[0;34m(*args, **kwargs)\u001b[0m\n\u001b[1;32m     77\u001b[0m \u001b[39mexcept\u001b[39;00m grpc\u001b[39m.\u001b[39mRpcError \u001b[39mas\u001b[39;00m exc:\n\u001b[0;32m---> 78\u001b[0m     \u001b[39mraise\u001b[39;00m exceptions\u001b[39m.\u001b[39mfrom_grpc_error(exc) \u001b[39mfrom\u001b[39;00m \u001b[39mexc\u001b[39;00m\n",
      "\u001b[0;31mServiceUnavailable\u001b[0m: 503 Getting metadata from plugin failed with error: 'str' object has no attribute 'before_request'",
      "\nThe above exception was the direct cause of the following exception:\n",
      "\u001b[0;31mRetryError\u001b[0m                                Traceback (most recent call last)",
      "Cell \u001b[0;32mIn[20], line 1\u001b[0m\n\u001b[0;32m----> 1\u001b[0m embedding_model \u001b[39m=\u001b[39m TextEmbeddingModel\u001b[39m.\u001b[39;49mfrom_pretrained(\n\u001b[1;32m      2\u001b[0m     \u001b[39m\"\u001b[39;49m\u001b[39mtextembedding-gecko@001\u001b[39;49m\u001b[39m\"\u001b[39;49m)\n",
      "File \u001b[0;32m~/miniconda3/envs/aa/lib/python3.8/site-packages/vertexai/_model_garden/_model_garden_models.py:288\u001b[0m, in \u001b[0;36m_ModelGardenModel.from_pretrained\u001b[0;34m(cls, model_name)\u001b[0m\n\u001b[1;32m    277\u001b[0m credential_exception_str \u001b[39m=\u001b[39m (\n\u001b[1;32m    278\u001b[0m     \u001b[39m\"\u001b[39m\u001b[39m\\n\u001b[39;00m\u001b[39mUnable to authenticate your request.\u001b[39m\u001b[39m\"\u001b[39m\n\u001b[1;32m    279\u001b[0m     \u001b[39m\"\u001b[39m\u001b[39m\\n\u001b[39;00m\u001b[39mDepending on your runtime environment, you can complete authentication by:\u001b[39m\u001b[39m\"\u001b[39m\n\u001b[0;32m   (...)\u001b[0m\n\u001b[1;32m    284\u001b[0m     \u001b[39m\"\u001b[39m\u001b[39m\\n\u001b[39;00m\u001b[39m- if in service account or other: please follow guidance in https://cloud.google.com/docs/authentication\u001b[39m\u001b[39m\"\u001b[39m\n\u001b[1;32m    285\u001b[0m )\n\u001b[1;32m    287\u001b[0m \u001b[39mtry\u001b[39;00m:\n\u001b[0;32m--> 288\u001b[0m     \u001b[39mreturn\u001b[39;00m _from_pretrained(interface_class\u001b[39m=\u001b[39;49m\u001b[39mcls\u001b[39;49m, model_name\u001b[39m=\u001b[39;49mmodel_name)\n\u001b[1;32m    289\u001b[0m \u001b[39mexcept\u001b[39;00m auth_exceptions\u001b[39m.\u001b[39mGoogleAuthError \u001b[39mas\u001b[39;00m e:\n\u001b[1;32m    290\u001b[0m     \u001b[39mraise\u001b[39;00m auth_exceptions\u001b[39m.\u001b[39mGoogleAuthError(credential_exception_str) \u001b[39mfrom\u001b[39;00m \u001b[39me\u001b[39;00m\n",
      "File \u001b[0;32m~/miniconda3/envs/aa/lib/python3.8/site-packages/vertexai/_model_garden/_model_garden_models.py:205\u001b[0m, in \u001b[0;36m_from_pretrained\u001b[0;34m(interface_class, model_name, publisher_model, tuned_vertex_model)\u001b[0m\n\u001b[1;32m    200\u001b[0m     \u001b[39mif\u001b[39;00m \u001b[39mnot\u001b[39;00m interface_class\u001b[39m.\u001b[39m_INSTANCE_SCHEMA_URI:\n\u001b[1;32m    201\u001b[0m         \u001b[39mraise\u001b[39;00m \u001b[39mValueError\u001b[39;00m(\n\u001b[1;32m    202\u001b[0m             \u001b[39mf\u001b[39m\u001b[39m\"\u001b[39m\u001b[39mClass \u001b[39m\u001b[39m{\u001b[39;00minterface_class\u001b[39m}\u001b[39;00m\u001b[39m is not a correct model interface class since it does not have an instance schema URI.\u001b[39m\u001b[39m\"\u001b[39m\n\u001b[1;32m    203\u001b[0m         )\n\u001b[0;32m--> 205\u001b[0m     model_info \u001b[39m=\u001b[39m _get_model_info(\n\u001b[1;32m    206\u001b[0m         model_id\u001b[39m=\u001b[39;49mmodel_name,\n\u001b[1;32m    207\u001b[0m         schema_to_class_map\u001b[39m=\u001b[39;49m{interface_class\u001b[39m.\u001b[39;49m_INSTANCE_SCHEMA_URI: interface_class},\n\u001b[1;32m    208\u001b[0m     )\n\u001b[1;32m    210\u001b[0m \u001b[39melse\u001b[39;00m:\n\u001b[1;32m    211\u001b[0m     schema_uri \u001b[39m=\u001b[39m publisher_model\u001b[39m.\u001b[39m_gca_resource\u001b[39m.\u001b[39mpredict_schemata\u001b[39m.\u001b[39minstance_schema_uri\n",
      "File \u001b[0;32m~/miniconda3/envs/aa/lib/python3.8/site-packages/vertexai/_model_garden/_model_garden_models.py:121\u001b[0m, in \u001b[0;36m_get_model_info\u001b[0;34m(model_id, schema_to_class_map, interface_class, publisher_model_res, tuned_vertex_model)\u001b[0m\n\u001b[1;32m    117\u001b[0m     model_id \u001b[39m=\u001b[39m \u001b[39m\"\u001b[39m\u001b[39mpublishers/google/models/\u001b[39m\u001b[39m\"\u001b[39m \u001b[39m+\u001b[39m model_id\n\u001b[1;32m    119\u001b[0m \u001b[39mif\u001b[39;00m \u001b[39mnot\u001b[39;00m publisher_model_res:\n\u001b[1;32m    120\u001b[0m     publisher_model_res \u001b[39m=\u001b[39m (\n\u001b[0;32m--> 121\u001b[0m         _publisher_models\u001b[39m.\u001b[39;49m_PublisherModel(  \u001b[39m# pylint: disable=protected-access\u001b[39;49;00m\n\u001b[1;32m    122\u001b[0m             resource_name\u001b[39m=\u001b[39;49mmodel_id\n\u001b[1;32m    123\u001b[0m         )\u001b[39m.\u001b[39m_gca_resource\n\u001b[1;32m    124\u001b[0m     )\n\u001b[1;32m    126\u001b[0m \u001b[39mif\u001b[39;00m \u001b[39mnot\u001b[39;00m publisher_model_res\u001b[39m.\u001b[39mname\u001b[39m.\u001b[39mstartswith(\u001b[39m\"\u001b[39m\u001b[39mpublishers/google/models/\u001b[39m\u001b[39m\"\u001b[39m):\n\u001b[1;32m    127\u001b[0m     \u001b[39mraise\u001b[39;00m \u001b[39mValueError\u001b[39;00m(\n\u001b[1;32m    128\u001b[0m         \u001b[39mf\u001b[39m\u001b[39m\"\u001b[39m\u001b[39mOnly Google models are currently supported. \u001b[39m\u001b[39m{\u001b[39;00mpublisher_model_res\u001b[39m.\u001b[39mname\u001b[39m}\u001b[39;00m\u001b[39m\"\u001b[39m\n\u001b[1;32m    129\u001b[0m     )\n",
      "File \u001b[0;32m~/miniconda3/envs/aa/lib/python3.8/site-packages/google/cloud/aiplatform/_publisher_models.py:77\u001b[0m, in \u001b[0;36m_PublisherModel.__init__\u001b[0;34m(self, resource_name, project, location, credentials)\u001b[0m\n\u001b[1;32m     71\u001b[0m     \u001b[39melse\u001b[39;00m:\n\u001b[1;32m     72\u001b[0m         \u001b[39mraise\u001b[39;00m \u001b[39mValueError\u001b[39;00m(\n\u001b[1;32m     73\u001b[0m             \u001b[39mf\u001b[39m\u001b[39m\"\u001b[39m\u001b[39m`\u001b[39m\u001b[39m{\u001b[39;00mresource_name\u001b[39m}\u001b[39;00m\u001b[39m` is not a valid PublisherModel resource \u001b[39m\u001b[39m\"\u001b[39m\n\u001b[1;32m     74\u001b[0m             \u001b[39m\"\u001b[39m\u001b[39mname or model garden id.\u001b[39m\u001b[39m\"\u001b[39m\n\u001b[1;32m     75\u001b[0m         )\n\u001b[0;32m---> 77\u001b[0m \u001b[39mself\u001b[39m\u001b[39m.\u001b[39m_gca_resource \u001b[39m=\u001b[39m \u001b[39mgetattr\u001b[39;49m(\u001b[39mself\u001b[39;49m\u001b[39m.\u001b[39;49mapi_client, \u001b[39mself\u001b[39;49m\u001b[39m.\u001b[39;49m_getter_method)(\n\u001b[1;32m     78\u001b[0m     name\u001b[39m=\u001b[39;49mfull_resource_name, retry\u001b[39m=\u001b[39;49mbase\u001b[39m.\u001b[39;49m_DEFAULT_RETRY\n\u001b[1;32m     79\u001b[0m )\n",
      "File \u001b[0;32m~/miniconda3/envs/aa/lib/python3.8/site-packages/google/cloud/aiplatform_v1/services/model_garden_service/client.py:778\u001b[0m, in \u001b[0;36mModelGardenServiceClient.get_publisher_model\u001b[0;34m(self, request, name, retry, timeout, metadata)\u001b[0m\n\u001b[1;32m    775\u001b[0m \u001b[39mself\u001b[39m\u001b[39m.\u001b[39m_validate_universe_domain()\n\u001b[1;32m    777\u001b[0m \u001b[39m# Send the request.\u001b[39;00m\n\u001b[0;32m--> 778\u001b[0m response \u001b[39m=\u001b[39m rpc(\n\u001b[1;32m    779\u001b[0m     request,\n\u001b[1;32m    780\u001b[0m     retry\u001b[39m=\u001b[39;49mretry,\n\u001b[1;32m    781\u001b[0m     timeout\u001b[39m=\u001b[39;49mtimeout,\n\u001b[1;32m    782\u001b[0m     metadata\u001b[39m=\u001b[39;49mmetadata,\n\u001b[1;32m    783\u001b[0m )\n\u001b[1;32m    785\u001b[0m \u001b[39m# Done; return the response.\u001b[39;00m\n\u001b[1;32m    786\u001b[0m \u001b[39mreturn\u001b[39;00m response\n",
      "File \u001b[0;32m~/miniconda3/envs/aa/lib/python3.8/site-packages/google/api_core/gapic_v1/method.py:131\u001b[0m, in \u001b[0;36m_GapicCallable.__call__\u001b[0;34m(self, timeout, retry, compression, *args, **kwargs)\u001b[0m\n\u001b[1;32m    128\u001b[0m \u001b[39mif\u001b[39;00m \u001b[39mself\u001b[39m\u001b[39m.\u001b[39m_compression \u001b[39mis\u001b[39;00m \u001b[39mnot\u001b[39;00m \u001b[39mNone\u001b[39;00m:\n\u001b[1;32m    129\u001b[0m     kwargs[\u001b[39m\"\u001b[39m\u001b[39mcompression\u001b[39m\u001b[39m\"\u001b[39m] \u001b[39m=\u001b[39m compression\n\u001b[0;32m--> 131\u001b[0m \u001b[39mreturn\u001b[39;00m wrapped_func(\u001b[39m*\u001b[39;49margs, \u001b[39m*\u001b[39;49m\u001b[39m*\u001b[39;49mkwargs)\n",
      "File \u001b[0;32m~/miniconda3/envs/aa/lib/python3.8/site-packages/google/api_core/retry/retry_unary.py:293\u001b[0m, in \u001b[0;36mRetry.__call__.<locals>.retry_wrapped_func\u001b[0;34m(*args, **kwargs)\u001b[0m\n\u001b[1;32m    289\u001b[0m target \u001b[39m=\u001b[39m functools\u001b[39m.\u001b[39mpartial(func, \u001b[39m*\u001b[39margs, \u001b[39m*\u001b[39m\u001b[39m*\u001b[39mkwargs)\n\u001b[1;32m    290\u001b[0m sleep_generator \u001b[39m=\u001b[39m exponential_sleep_generator(\n\u001b[1;32m    291\u001b[0m     \u001b[39mself\u001b[39m\u001b[39m.\u001b[39m_initial, \u001b[39mself\u001b[39m\u001b[39m.\u001b[39m_maximum, multiplier\u001b[39m=\u001b[39m\u001b[39mself\u001b[39m\u001b[39m.\u001b[39m_multiplier\n\u001b[1;32m    292\u001b[0m )\n\u001b[0;32m--> 293\u001b[0m \u001b[39mreturn\u001b[39;00m retry_target(\n\u001b[1;32m    294\u001b[0m     target,\n\u001b[1;32m    295\u001b[0m     \u001b[39mself\u001b[39;49m\u001b[39m.\u001b[39;49m_predicate,\n\u001b[1;32m    296\u001b[0m     sleep_generator,\n\u001b[1;32m    297\u001b[0m     timeout\u001b[39m=\u001b[39;49m\u001b[39mself\u001b[39;49m\u001b[39m.\u001b[39;49m_timeout,\n\u001b[1;32m    298\u001b[0m     on_error\u001b[39m=\u001b[39;49mon_error,\n\u001b[1;32m    299\u001b[0m )\n",
      "File \u001b[0;32m~/miniconda3/envs/aa/lib/python3.8/site-packages/google/api_core/retry/retry_unary.py:153\u001b[0m, in \u001b[0;36mretry_target\u001b[0;34m(target, predicate, sleep_generator, timeout, on_error, exception_factory, **kwargs)\u001b[0m\n\u001b[1;32m    149\u001b[0m \u001b[39m# pylint: disable=broad-except\u001b[39;00m\n\u001b[1;32m    150\u001b[0m \u001b[39m# This function explicitly must deal with broad exceptions.\u001b[39;00m\n\u001b[1;32m    151\u001b[0m \u001b[39mexcept\u001b[39;00m \u001b[39mException\u001b[39;00m \u001b[39mas\u001b[39;00m exc:\n\u001b[1;32m    152\u001b[0m     \u001b[39m# defer to shared logic for handling errors\u001b[39;00m\n\u001b[0;32m--> 153\u001b[0m     _retry_error_helper(\n\u001b[1;32m    154\u001b[0m         exc,\n\u001b[1;32m    155\u001b[0m         deadline,\n\u001b[1;32m    156\u001b[0m         sleep,\n\u001b[1;32m    157\u001b[0m         error_list,\n\u001b[1;32m    158\u001b[0m         predicate,\n\u001b[1;32m    159\u001b[0m         on_error,\n\u001b[1;32m    160\u001b[0m         exception_factory,\n\u001b[1;32m    161\u001b[0m         timeout,\n\u001b[1;32m    162\u001b[0m     )\n\u001b[1;32m    163\u001b[0m     \u001b[39m# if exception not raised, sleep before next attempt\u001b[39;00m\n\u001b[1;32m    164\u001b[0m     time\u001b[39m.\u001b[39msleep(sleep)\n",
      "File \u001b[0;32m~/miniconda3/envs/aa/lib/python3.8/site-packages/google/api_core/retry/retry_base.py:221\u001b[0m, in \u001b[0;36m_retry_error_helper\u001b[0;34m(exc, deadline, next_sleep, error_list, predicate_fn, on_error_fn, exc_factory_fn, original_timeout)\u001b[0m\n\u001b[1;32m    215\u001b[0m \u001b[39mif\u001b[39;00m deadline \u001b[39mis\u001b[39;00m \u001b[39mnot\u001b[39;00m \u001b[39mNone\u001b[39;00m \u001b[39mand\u001b[39;00m time\u001b[39m.\u001b[39mmonotonic() \u001b[39m+\u001b[39m next_sleep \u001b[39m>\u001b[39m deadline:\n\u001b[1;32m    216\u001b[0m     final_exc, source_exc \u001b[39m=\u001b[39m exc_factory_fn(\n\u001b[1;32m    217\u001b[0m         error_list,\n\u001b[1;32m    218\u001b[0m         RetryFailureReason\u001b[39m.\u001b[39mTIMEOUT,\n\u001b[1;32m    219\u001b[0m         original_timeout,\n\u001b[1;32m    220\u001b[0m     )\n\u001b[0;32m--> 221\u001b[0m     \u001b[39mraise\u001b[39;00m final_exc \u001b[39mfrom\u001b[39;00m \u001b[39msource_exc\u001b[39;00m\n\u001b[1;32m    222\u001b[0m _LOGGER\u001b[39m.\u001b[39mdebug(\n\u001b[1;32m    223\u001b[0m     \u001b[39m\"\u001b[39m\u001b[39mRetrying due to \u001b[39m\u001b[39m{}\u001b[39;00m\u001b[39m, sleeping \u001b[39m\u001b[39m{:.1f}\u001b[39;00m\u001b[39ms ...\u001b[39m\u001b[39m\"\u001b[39m\u001b[39m.\u001b[39mformat(error_list[\u001b[39m-\u001b[39m\u001b[39m1\u001b[39m], next_sleep)\n\u001b[1;32m    224\u001b[0m )\n",
      "\u001b[0;31mRetryError\u001b[0m: Timeout of 120.0s exceeded, last exception: 503 Getting metadata from plugin failed with error: 'str' object has no attribute 'before_request'"
     ]
    }
   ],
   "source": [
    "embedding_model = TextEmbeddingModel.from_pretrained(\n",
    "    \"textembedding-gecko@001\")"
   ]
  },
  {
   "cell_type": "code",
   "execution_count": null,
   "metadata": {},
   "outputs": [],
   "source": [
    "embedding = embedding_model.get_embeddings(\n",
    "    [\"life\"])"
   ]
  },
  {
   "cell_type": "code",
   "execution_count": 5,
   "metadata": {},
   "outputs": [],
   "source": [
    "from google.oauth2 import service_account\n",
    "\n",
    "# credentials.json dosyasının yolu\n",
    "credentials_path =  \"tough-history-.json\"\n",
    "credentials = service_account.Credentials.from_service_account_file(credentials_path)\n"
   ]
  },
  {
   "cell_type": "code",
   "execution_count": 9,
   "metadata": {},
   "outputs": [],
   "source": [
    "PROJECT_ID = 'tough-history'\n",
    "REGION = 'us-central1'\n",
    "MODEL_ID = \"textembedding-gecko@001\"\n",
    "\n",
    "import vertexai\n",
    "from vertexai.language_models import TextEmbeddingModel\n",
    "\n",
    "vertexai.init(project=PROJECT_ID, location=REGION, credentials=credentials)\n",
    "\n",
    "embedding_model = TextEmbeddingModel.from_pretrained(MODEL_ID)\n",
    "#embeddings = model.get_embeddings(...)"
   ]
  },
  {
   "cell_type": "code",
   "execution_count": 10,
   "metadata": {},
   "outputs": [
    {
     "data": {
      "text/plain": [
       "<vertexai.language_models.TextEmbeddingModel at 0x7fec3f217d60>"
      ]
     },
     "execution_count": 10,
     "metadata": {},
     "output_type": "execute_result"
    }
   ],
   "source": [
    "embedding_model"
   ]
  },
  {
   "cell_type": "code",
   "execution_count": 11,
   "metadata": {},
   "outputs": [
    {
     "ename": "PermissionDenied",
     "evalue": "403 Permission 'aiplatform.endpoints.predict' denied on resource '//aiplatform.googleapis.com/projects/tough-history-431913-r8/locations/us-central1/publishers/google/models/textembedding-gecko@001' (or it may not exist). [reason: \"IAM_PERMISSION_DENIED\"\ndomain: \"aiplatform.googleapis.com\"\nmetadata {\n  key: \"resource\"\n  value: \"projects/tough-history-431913-r8/locations/us-central1/publishers/google/models/textembedding-gecko@001\"\n}\nmetadata {\n  key: \"permission\"\n  value: \"aiplatform.endpoints.predict\"\n}\n]",
     "output_type": "error",
     "traceback": [
      "\u001b[0;31m---------------------------------------------------------------------------\u001b[0m",
      "\u001b[0;31m_InactiveRpcError\u001b[0m                         Traceback (most recent call last)",
      "File \u001b[0;32m~/miniconda3/envs/aa/lib/python3.8/site-packages/google/api_core/grpc_helpers.py:76\u001b[0m, in \u001b[0;36m_wrap_unary_errors.<locals>.error_remapped_callable\u001b[0;34m(*args, **kwargs)\u001b[0m\n\u001b[1;32m     75\u001b[0m \u001b[39mtry\u001b[39;00m:\n\u001b[0;32m---> 76\u001b[0m     \u001b[39mreturn\u001b[39;00m callable_(\u001b[39m*\u001b[39;49margs, \u001b[39m*\u001b[39;49m\u001b[39m*\u001b[39;49mkwargs)\n\u001b[1;32m     77\u001b[0m \u001b[39mexcept\u001b[39;00m grpc\u001b[39m.\u001b[39mRpcError \u001b[39mas\u001b[39;00m exc:\n",
      "File \u001b[0;32m~/miniconda3/envs/aa/lib/python3.8/site-packages/grpc/_channel.py:1181\u001b[0m, in \u001b[0;36m_UnaryUnaryMultiCallable.__call__\u001b[0;34m(self, request, timeout, metadata, credentials, wait_for_ready, compression)\u001b[0m\n\u001b[1;32m   1175\u001b[0m (\n\u001b[1;32m   1176\u001b[0m     state,\n\u001b[1;32m   1177\u001b[0m     call,\n\u001b[1;32m   1178\u001b[0m ) \u001b[39m=\u001b[39m \u001b[39mself\u001b[39m\u001b[39m.\u001b[39m_blocking(\n\u001b[1;32m   1179\u001b[0m     request, timeout, metadata, credentials, wait_for_ready, compression\n\u001b[1;32m   1180\u001b[0m )\n\u001b[0;32m-> 1181\u001b[0m \u001b[39mreturn\u001b[39;00m _end_unary_response_blocking(state, call, \u001b[39mFalse\u001b[39;49;00m, \u001b[39mNone\u001b[39;49;00m)\n",
      "File \u001b[0;32m~/miniconda3/envs/aa/lib/python3.8/site-packages/grpc/_channel.py:1006\u001b[0m, in \u001b[0;36m_end_unary_response_blocking\u001b[0;34m(state, call, with_call, deadline)\u001b[0m\n\u001b[1;32m   1005\u001b[0m \u001b[39melse\u001b[39;00m:\n\u001b[0;32m-> 1006\u001b[0m     \u001b[39mraise\u001b[39;00m _InactiveRpcError(state)\n",
      "\u001b[0;31m_InactiveRpcError\u001b[0m: <_InactiveRpcError of RPC that terminated with:\n\tstatus = StatusCode.PERMISSION_DENIED\n\tdetails = \"Permission 'aiplatform.endpoints.predict' denied on resource '//aiplatform.googleapis.com/projects/tough-history-431913-r8/locations/us-central1/publishers/google/models/textembedding-gecko@001' (or it may not exist).\"\n\tdebug_error_string = \"UNKNOWN:Error received from peer ipv4:172.217.169.202:443 {grpc_message:\"Permission \\'aiplatform.endpoints.predict\\' denied on resource \\'//aiplatform.googleapis.com/projects/tough-history-431913-r8/locations/us-central1/publishers/google/models/textembedding-gecko@001\\' (or it may not exist).\", grpc_status:7, created_time:\"2024-08-10T19:11:18.630487297+03:00\"}\"\n>",
      "\nThe above exception was the direct cause of the following exception:\n",
      "\u001b[0;31mPermissionDenied\u001b[0m                          Traceback (most recent call last)",
      "Cell \u001b[0;32mIn[11], line 1\u001b[0m\n\u001b[0;32m----> 1\u001b[0m embedding \u001b[39m=\u001b[39m embedding_model\u001b[39m.\u001b[39;49mget_embeddings(\n\u001b[1;32m      2\u001b[0m     [\u001b[39m\"\u001b[39;49m\u001b[39mlife\u001b[39;49m\u001b[39m\"\u001b[39;49m])\n",
      "File \u001b[0;32m~/miniconda3/envs/aa/lib/python3.8/site-packages/vertexai/language_models/_language_models.py:2189\u001b[0m, in \u001b[0;36m_TextEmbeddingModel.get_embeddings\u001b[0;34m(self, texts, auto_truncate, output_dimensionality)\u001b[0m\n\u001b[1;32m   2173\u001b[0m \u001b[39m\u001b[39m\u001b[39m\"\"\"Calculates embeddings for the given texts.\u001b[39;00m\n\u001b[1;32m   2174\u001b[0m \n\u001b[1;32m   2175\u001b[0m \u001b[39mArgs:\u001b[39;00m\n\u001b[0;32m   (...)\u001b[0m\n\u001b[1;32m   2181\u001b[0m \u001b[39m    A list of `TextEmbedding` objects.\u001b[39;00m\n\u001b[1;32m   2182\u001b[0m \u001b[39m\"\"\"\u001b[39;00m\n\u001b[1;32m   2183\u001b[0m prediction_request \u001b[39m=\u001b[39m \u001b[39mself\u001b[39m\u001b[39m.\u001b[39m_prepare_text_embedding_request(\n\u001b[1;32m   2184\u001b[0m     texts\u001b[39m=\u001b[39mtexts,\n\u001b[1;32m   2185\u001b[0m     auto_truncate\u001b[39m=\u001b[39mauto_truncate,\n\u001b[1;32m   2186\u001b[0m     output_dimensionality\u001b[39m=\u001b[39moutput_dimensionality,\n\u001b[1;32m   2187\u001b[0m )\n\u001b[0;32m-> 2189\u001b[0m prediction_response \u001b[39m=\u001b[39m \u001b[39mself\u001b[39;49m\u001b[39m.\u001b[39;49m_endpoint\u001b[39m.\u001b[39;49mpredict(\n\u001b[1;32m   2190\u001b[0m     instances\u001b[39m=\u001b[39;49mprediction_request\u001b[39m.\u001b[39;49minstances,\n\u001b[1;32m   2191\u001b[0m     parameters\u001b[39m=\u001b[39;49mprediction_request\u001b[39m.\u001b[39;49mparameters,\n\u001b[1;32m   2192\u001b[0m )\n\u001b[1;32m   2194\u001b[0m \u001b[39mreturn\u001b[39;00m [\n\u001b[1;32m   2195\u001b[0m     TextEmbedding\u001b[39m.\u001b[39m_parse_text_embedding_response(\n\u001b[1;32m   2196\u001b[0m         prediction_response, i_prediction\n\u001b[1;32m   2197\u001b[0m     )\n\u001b[1;32m   2198\u001b[0m     \u001b[39mfor\u001b[39;00m i_prediction, _ \u001b[39min\u001b[39;00m \u001b[39menumerate\u001b[39m(prediction_response\u001b[39m.\u001b[39mpredictions)\n\u001b[1;32m   2199\u001b[0m ]\n",
      "File \u001b[0;32m~/miniconda3/envs/aa/lib/python3.8/site-packages/google/cloud/aiplatform/models.py:2105\u001b[0m, in \u001b[0;36mEndpoint.predict\u001b[0;34m(self, instances, parameters, timeout, use_raw_predict)\u001b[0m\n\u001b[1;32m   2091\u001b[0m     \u001b[39mreturn\u001b[39;00m Prediction(\n\u001b[1;32m   2092\u001b[0m         predictions\u001b[39m=\u001b[39mjson_response[\u001b[39m\"\u001b[39m\u001b[39mpredictions\u001b[39m\u001b[39m\"\u001b[39m],\n\u001b[1;32m   2093\u001b[0m         metadata\u001b[39m=\u001b[39mjson_response\u001b[39m.\u001b[39mget(\u001b[39m\"\u001b[39m\u001b[39mmetadata\u001b[39m\u001b[39m\"\u001b[39m),\n\u001b[0;32m   (...)\u001b[0m\n\u001b[1;32m   2102\u001b[0m         ),\n\u001b[1;32m   2103\u001b[0m     )\n\u001b[1;32m   2104\u001b[0m \u001b[39melse\u001b[39;00m:\n\u001b[0;32m-> 2105\u001b[0m     prediction_response \u001b[39m=\u001b[39m \u001b[39mself\u001b[39;49m\u001b[39m.\u001b[39;49m_prediction_client\u001b[39m.\u001b[39;49mpredict(\n\u001b[1;32m   2106\u001b[0m         endpoint\u001b[39m=\u001b[39;49m\u001b[39mself\u001b[39;49m\u001b[39m.\u001b[39;49m_gca_resource\u001b[39m.\u001b[39;49mname,\n\u001b[1;32m   2107\u001b[0m         instances\u001b[39m=\u001b[39;49minstances,\n\u001b[1;32m   2108\u001b[0m         parameters\u001b[39m=\u001b[39;49mparameters,\n\u001b[1;32m   2109\u001b[0m         timeout\u001b[39m=\u001b[39;49mtimeout,\n\u001b[1;32m   2110\u001b[0m     )\n\u001b[1;32m   2111\u001b[0m     \u001b[39mif\u001b[39;00m prediction_response\u001b[39m.\u001b[39m_pb\u001b[39m.\u001b[39mmetadata:\n\u001b[1;32m   2112\u001b[0m         metadata \u001b[39m=\u001b[39m json_format\u001b[39m.\u001b[39mMessageToDict(prediction_response\u001b[39m.\u001b[39m_pb\u001b[39m.\u001b[39mmetadata)\n",
      "File \u001b[0;32m~/miniconda3/envs/aa/lib/python3.8/site-packages/google/cloud/aiplatform_v1/services/prediction_service/client.py:848\u001b[0m, in \u001b[0;36mPredictionServiceClient.predict\u001b[0;34m(self, request, endpoint, instances, parameters, retry, timeout, metadata)\u001b[0m\n\u001b[1;32m    845\u001b[0m \u001b[39mself\u001b[39m\u001b[39m.\u001b[39m_validate_universe_domain()\n\u001b[1;32m    847\u001b[0m \u001b[39m# Send the request.\u001b[39;00m\n\u001b[0;32m--> 848\u001b[0m response \u001b[39m=\u001b[39m rpc(\n\u001b[1;32m    849\u001b[0m     request,\n\u001b[1;32m    850\u001b[0m     retry\u001b[39m=\u001b[39;49mretry,\n\u001b[1;32m    851\u001b[0m     timeout\u001b[39m=\u001b[39;49mtimeout,\n\u001b[1;32m    852\u001b[0m     metadata\u001b[39m=\u001b[39;49mmetadata,\n\u001b[1;32m    853\u001b[0m )\n\u001b[1;32m    855\u001b[0m \u001b[39m# Done; return the response.\u001b[39;00m\n\u001b[1;32m    856\u001b[0m \u001b[39mreturn\u001b[39;00m response\n",
      "File \u001b[0;32m~/miniconda3/envs/aa/lib/python3.8/site-packages/google/api_core/gapic_v1/method.py:131\u001b[0m, in \u001b[0;36m_GapicCallable.__call__\u001b[0;34m(self, timeout, retry, compression, *args, **kwargs)\u001b[0m\n\u001b[1;32m    128\u001b[0m \u001b[39mif\u001b[39;00m \u001b[39mself\u001b[39m\u001b[39m.\u001b[39m_compression \u001b[39mis\u001b[39;00m \u001b[39mnot\u001b[39;00m \u001b[39mNone\u001b[39;00m:\n\u001b[1;32m    129\u001b[0m     kwargs[\u001b[39m\"\u001b[39m\u001b[39mcompression\u001b[39m\u001b[39m\"\u001b[39m] \u001b[39m=\u001b[39m compression\n\u001b[0;32m--> 131\u001b[0m \u001b[39mreturn\u001b[39;00m wrapped_func(\u001b[39m*\u001b[39;49margs, \u001b[39m*\u001b[39;49m\u001b[39m*\u001b[39;49mkwargs)\n",
      "File \u001b[0;32m~/miniconda3/envs/aa/lib/python3.8/site-packages/google/api_core/grpc_helpers.py:78\u001b[0m, in \u001b[0;36m_wrap_unary_errors.<locals>.error_remapped_callable\u001b[0;34m(*args, **kwargs)\u001b[0m\n\u001b[1;32m     76\u001b[0m     \u001b[39mreturn\u001b[39;00m callable_(\u001b[39m*\u001b[39margs, \u001b[39m*\u001b[39m\u001b[39m*\u001b[39mkwargs)\n\u001b[1;32m     77\u001b[0m \u001b[39mexcept\u001b[39;00m grpc\u001b[39m.\u001b[39mRpcError \u001b[39mas\u001b[39;00m exc:\n\u001b[0;32m---> 78\u001b[0m     \u001b[39mraise\u001b[39;00m exceptions\u001b[39m.\u001b[39mfrom_grpc_error(exc) \u001b[39mfrom\u001b[39;00m \u001b[39mexc\u001b[39;00m\n",
      "\u001b[0;31mPermissionDenied\u001b[0m: 403 Permission 'aiplatform.endpoints.predict' denied on resource '//aiplatform.googleapis.com/projects/tough-history-431913-r8/locations/us-central1/publishers/google/models/textembedding-gecko@001' (or it may not exist). [reason: \"IAM_PERMISSION_DENIED\"\ndomain: \"aiplatform.googleapis.com\"\nmetadata {\n  key: \"resource\"\n  value: \"projects/tough-history-431913-r8/locations/us-central1/publishers/google/models/textembedding-gecko@001\"\n}\nmetadata {\n  key: \"permission\"\n  value: \"aiplatform.endpoints.predict\"\n}\n]"
     ]
    }
   ],
   "source": [
    "embedding = embedding_model.get_embeddings(\n",
    "    [\"life\"])"
   ]
  }
 ],
 "metadata": {
  "kernelspec": {
   "display_name": "aa",
   "language": "python",
   "name": "python3"
  },
  "language_info": {
   "codemirror_mode": {
    "name": "ipython",
    "version": 3
   },
   "file_extension": ".py",
   "mimetype": "text/x-python",
   "name": "python",
   "nbconvert_exporter": "python",
   "pygments_lexer": "ipython3",
   "version": "3.8.2"
  },
  "orig_nbformat": 4,
  "vscode": {
   "interpreter": {
    "hash": "1e68f48f757f27e07250b73c6151e4820dd2d9b0a7c4f853122bf96447b625da"
   }
  }
 },
 "nbformat": 4,
 "nbformat_minor": 2
}
